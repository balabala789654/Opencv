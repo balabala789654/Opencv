{
 "cells": [
  {
   "cell_type": "code",
   "execution_count": 1,
   "id": "29abc76f-2e5a-47df-be2e-a8f602f24fdb",
   "metadata": {},
   "outputs": [],
   "source": [
    "import numpy as np"
   ]
  },
  {
   "cell_type": "code",
   "execution_count": 2,
   "id": "001ebd0c-b9e9-4a48-8cac-b30a04c09203",
   "metadata": {},
   "outputs": [
    {
     "name": "stdout",
     "output_type": "stream",
     "text": [
      "1.26.4\n"
     ]
    }
   ],
   "source": [
    "print(np.__version__)"
   ]
  },
  {
   "cell_type": "code",
   "execution_count": 3,
   "id": "cb3edf1e-95d5-4e9d-b581-b104b003551a",
   "metadata": {},
   "outputs": [
    {
     "name": "stdout",
     "output_type": "stream",
     "text": [
      "[1 2 3]\n"
     ]
    }
   ],
   "source": [
    "arr = np.array((1,2,3), np.uint8)\n",
    "print(arr)"
   ]
  },
  {
   "cell_type": "code",
   "execution_count": 15,
   "id": "be436f06-6fff-4941-aba0-bf59762a1350",
   "metadata": {},
   "outputs": [
    {
     "name": "stdout",
     "output_type": "stream",
     "text": [
      "创建二维数组方法\n",
      " [[1 3 4 5 6 8]\n",
      " [1 2 3 4 5 6]]\n",
      "数组索引 4\n",
      "数组维数 2\n"
     ]
    }
   ],
   "source": [
    "arr1 = np.array([[1,3,4,5,6,8], [1,2,3,4,5,6]])\n",
    "print(\"创建二维数组方法\\n\",arr1)\n",
    "print(\"数组索引\",arr1[1,3])\n",
    "print(\"数组维数\",arr1.ndim)"
   ]
  },
  {
   "cell_type": "code",
   "execution_count": 13,
   "id": "f3357242-bc06-4de1-bc30-05c6d076a4e8",
   "metadata": {},
   "outputs": [
    {
     "name": "stdout",
     "output_type": "stream",
     "text": [
      "创建三维数组方法\n",
      " [[[1 2 3]\n",
      "  [4 5 6]]\n",
      "\n",
      " [[1 2 3]\n",
      "  [7 8 9]]]\n",
      "数组索引 8\n",
      "数组维数 3\n"
     ]
    }
   ],
   "source": [
    "arr2 = np.array([[[1,2,3],[4,5,6]],[[1,2,3],[7,8,9]]])\n",
    "print(\"创建三维数组方法\\n\",arr2)\n",
    "print(\"数组索引\",arr2[1,1,1])\n",
    "print(\"数组维数\",arr2.ndim)"
   ]
  },
  {
   "cell_type": "code",
   "execution_count": 22,
   "id": "300558c0-7ebc-49ed-9ad7-7a51854a5284",
   "metadata": {},
   "outputs": [
    {
     "name": "stdout",
     "output_type": "stream",
     "text": [
      "n维数组的建立 [[[[[1 2 3 4]]]]]\n"
     ]
    }
   ],
   "source": [
    "arr3 = np.array([1,2,3,4], ndmin = 5)\n",
    "print(\"n维数组的建立\",arr3)"
   ]
  },
  {
   "cell_type": "code",
   "execution_count": 23,
   "id": "ab214cf7-f792-4f6f-8f4d-ecb35f3b425b",
   "metadata": {},
   "outputs": [
    {
     "name": "stdout",
     "output_type": "stream",
     "text": [
      "[1 2 3 4 5]\n"
     ]
    }
   ],
   "source": [
    "arr4 = np.array([1,2,3,4,5,6,7])\n",
    "print(arr4[0:5])"
   ]
  },
  {
   "cell_type": "code",
   "execution_count": 27,
   "id": "deb4fe3e-0199-4511-9c1b-fbbe4bc1ccb3",
   "metadata": {},
   "outputs": [
    {
     "name": "stdout",
     "output_type": "stream",
     "text": [
      "[[1 2 3 3 4 5]\n",
      " [5 6 7 8 9 9]]\n"
     ]
    }
   ],
   "source": [
    "arr5 = np.array([[1,2,3,3,4,5],[5,6,7,8,9,9],[1,2,3,4,6,7]])\n",
    "print(arr5[0:2,0:6])"
   ]
  },
  {
   "cell_type": "code",
   "execution_count": null,
   "id": "c6a467b9-c50a-4e99-8024-990982e4b164",
   "metadata": {},
   "outputs": [],
   "source": []
  }
 ],
 "metadata": {
  "kernelspec": {
   "display_name": "env1",
   "language": "python",
   "name": "env1"
  },
  "language_info": {
   "codemirror_mode": {
    "name": "ipython",
    "version": 3
   },
   "file_extension": ".py",
   "mimetype": "text/x-python",
   "name": "python",
   "nbconvert_exporter": "python",
   "pygments_lexer": "ipython3",
   "version": "3.12.3"
  }
 },
 "nbformat": 4,
 "nbformat_minor": 5
}
