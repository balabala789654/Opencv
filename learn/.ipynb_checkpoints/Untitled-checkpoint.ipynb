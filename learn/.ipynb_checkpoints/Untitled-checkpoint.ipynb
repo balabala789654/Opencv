{
 "cells": [
  {
   "cell_type": "code",
   "execution_count": 1,
   "id": "a280ad92-b439-4843-ad15-bbaf468dc23c",
   "metadata": {},
   "outputs": [],
   "source": [
    "import cv2\n",
    "import numpy as np\n",
    "\n"
   ]
  },
  {
   "cell_type": "code",
   "execution_count": 10,
   "id": "36e631e2-e920-4ca1-b4ed-e88f669e799b",
   "metadata": {},
   "outputs": [
    {
     "name": "stdout",
     "output_type": "stream",
     "text": [
      "[[[1 2 3 4]\n",
      "  [1 2 3 4]\n",
      "  [3 4 5 6]]\n",
      "\n",
      " [[1 2 3 4]\n",
      "  [1 2 3 4]\n",
      "  [6 7 8 9]]]\n"
     ]
    }
   ],
   "source": [
    "mat = np.array([[[1,2,3,4], [1,2,3,4], [3,4,5,6]], [[1,2,3,4], [1,2,3,4], [6,7,8,9]]])\n",
    "print(mat)"
   ]
  },
  {
   "cell_type": "code",
   "execution_count": null,
   "id": "bf1589cc-8849-46ed-8fac-6e9342ee4761",
   "metadata": {},
   "outputs": [],
   "source": []
  }
 ],
 "metadata": {
  "kernelspec": {
   "display_name": "env1",
   "language": "python",
   "name": "env1"
  },
  "language_info": {
   "codemirror_mode": {
    "name": "ipython",
    "version": 3
   },
   "file_extension": ".py",
   "mimetype": "text/x-python",
   "name": "python",
   "nbconvert_exporter": "python",
   "pygments_lexer": "ipython3",
   "version": "3.12.3"
  }
 },
 "nbformat": 4,
 "nbformat_minor": 5
}
