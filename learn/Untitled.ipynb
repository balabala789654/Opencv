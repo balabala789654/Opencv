{
 "cells": [
  {
   "cell_type": "code",
   "execution_count": 4,
   "id": "a280ad92-b439-4843-ad15-bbaf468dc23c",
   "metadata": {},
   "outputs": [
    {
     "name": "stdout",
     "output_type": "stream",
     "text": [
      "[129 123 124] <class 'numpy.ndarray'> <class 'numpy.uint8'>\n"
     ]
    }
   ],
   "source": [
    "import cv2\n",
    "import numpy as np\n",
    "def nothing(x):\n",
    "    pass\n",
    "\n",
    "img_path = \"./pic/3.jpg\"\n",
    "\n",
    "x = 1\n",
    "y = 1\n",
    "\n",
    "# img = np.zeros((640, 480, 3), np.uint8)\n",
    "img = cv2.imread(img_path)\n",
    "img = cv2.resize(img, (640,480))\n",
    "cv2.namedWindow(\"img\", cv2.WINDOW_NORMAL)\n",
    "\n",
    "cv2.createTrackbar(\"r\", \"img\", 0, 255, nothing)\n",
    "\n",
    "print(img[480-1][640-1], type(img), type(img[480-1][640-1][0]))\n",
    "while True:\n",
    "    r = cv2.getTrackbarPos(\"r\", \"img\")\n",
    "    img[:, :, 0] = [r]\n",
    "    cv2.imshow(\"img\",img)\n",
    "    # print(img[x][y][0], type(img), type(img[x][y][0]))\n",
    "    \n",
    "    k = cv2.waitKey(1)\n",
    "    if k == ord('q'):\n",
    "        break\n",
    "    elif k == ord('p'):\n",
    "        print(img[1,1])\n",
    "cv2.destroyAllWindows()\n",
    "# img.release()"
   ]
  },
  {
   "cell_type": "code",
   "execution_count": null,
   "id": "36e631e2-e920-4ca1-b4ed-e88f669e799b",
   "metadata": {},
   "outputs": [],
   "source": []
  }
 ],
 "metadata": {
  "kernelspec": {
   "display_name": "env1",
   "language": "python",
   "name": "env1"
  },
  "language_info": {
   "codemirror_mode": {
    "name": "ipython",
    "version": 3
   },
   "file_extension": ".py",
   "mimetype": "text/x-python",
   "name": "python",
   "nbconvert_exporter": "python",
   "pygments_lexer": "ipython3",
   "version": "3.12.3"
  }
 },
 "nbformat": 4,
 "nbformat_minor": 5
}
